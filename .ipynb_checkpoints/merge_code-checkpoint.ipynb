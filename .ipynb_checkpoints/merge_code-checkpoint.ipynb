{
 "cells": [
  {
   "cell_type": "code",
   "execution_count": 1,
   "id": "3a203a9d",
   "metadata": {},
   "outputs": [],
   "source": [
    "import pandas as pd "
   ]
  },
  {
   "cell_type": "code",
   "execution_count": 2,
   "id": "3b847873",
   "metadata": {},
   "outputs": [],
   "source": [
    "# read the catalogues\n",
    "cat_A = pd.read_csv(\"input/catalogA.csv\") \n",
    "cat_B = pd.read_csv(\"input/catalogB.csv\") "
   ]
  },
  {
   "cell_type": "code",
   "execution_count": 3,
   "id": "c55900aa",
   "metadata": {},
   "outputs": [
    {
     "name": "stdout",
     "output_type": "stream",
     "text": [
      "           SKU                       Description Source\n",
      "0  647-vyk-317       Walkers Special Old Whiskey      A\n",
      "1  280-oad-768                    Bread - Raisin      A\n",
      "2  165-rcy-650                 Tea - Decaf 1 Cup      A\n",
      "3  167-eol-949             Cheese - Grana Padano      A\n",
      "4  650-epd-782     Carbonated Water - Lemon Lime      A\n",
      "0  999-vyk-317  Walkers Special Old Whiskey test      B\n",
      "1  999-oad-768                    Bread - Raisin      B\n",
      "2  165-rcy-650                 Tea - Decaf 1 Cup      B\n",
      "3  999-eol-949             Cheese - Grana Padano      B\n",
      "4  999-epd-782     Carbonated Water - Lemon Lime      B\n"
     ]
    }
   ],
   "source": [
    "cat_A['Source'] = 'A'\n",
    "cat_B['Source'] = 'B'\n",
    "\n",
    "itermediate_merged_catalogues = cat_A.append(cat_B)\n",
    "\n",
    "print(itermediate_merged_catalogues)"
   ]
  },
  {
   "cell_type": "code",
   "execution_count": 4,
   "id": "ef82efcb",
   "metadata": {},
   "outputs": [
    {
     "name": "stdout",
     "output_type": "stream",
     "text": [
      "           SKU                       Description Source\n",
      "0  647-vyk-317       Walkers Special Old Whiskey      A\n",
      "1  280-oad-768                    Bread - Raisin      A\n",
      "2  165-rcy-650                 Tea - Decaf 1 Cup      A\n",
      "3  167-eol-949             Cheese - Grana Padano      A\n",
      "4  650-epd-782     Carbonated Water - Lemon Lime      A\n",
      "0  999-vyk-317  Walkers Special Old Whiskey test      B\n",
      "1  999-oad-768                    Bread - Raisin      B\n",
      "3  999-eol-949             Cheese - Grana Padano      B\n",
      "4  999-epd-782     Carbonated Water - Lemon Lime      B\n"
     ]
    }
   ],
   "source": [
    "itermediate_merged_catalogues.drop_duplicates(subset =\"SKU\",\n",
    "                     keep = \"first\", inplace = True)\n",
    "print(itermediate_merged_catalogues)"
   ]
  },
  {
   "cell_type": "code",
   "execution_count": 5,
   "id": "c2dcb197",
   "metadata": {},
   "outputs": [
    {
     "name": "stdout",
     "output_type": "stream",
     "text": [
      "           SKU                       Description Source\n",
      "0  647-vyk-317       Walkers Special Old Whiskey      A\n",
      "1  280-oad-768                    Bread - Raisin      A\n",
      "2  165-rcy-650                 Tea - Decaf 1 Cup      A\n",
      "3  167-eol-949             Cheese - Grana Padano      A\n",
      "4  650-epd-782     Carbonated Water - Lemon Lime      A\n",
      "5  999-vyk-317  Walkers Special Old Whiskey test      B\n",
      "6  999-oad-768                    Bread - Raisin      B\n",
      "7  999-eol-949             Cheese - Grana Padano      B\n",
      "8  999-epd-782     Carbonated Water - Lemon Lime      B\n"
     ]
    }
   ],
   "source": [
    "# reset the index because we have merged two dataframes \\\n",
    "# and the indexes are confusing\n",
    "itermediate_merged_catalogues.reset_index(drop=True, inplace=True)\n",
    "print(itermediate_merged_catalogues)"
   ]
  },
  {
   "cell_type": "code",
   "execution_count": 6,
   "id": "7b596f89",
   "metadata": {},
   "outputs": [],
   "source": [
    "# read the barcodes\n",
    "bar_A = pd.read_csv(\"input/barcodesA.csv\") \n",
    "bar_B = pd.read_csv(\"input/barcodesB.csv\") "
   ]
  },
  {
   "cell_type": "code",
   "execution_count": 7,
   "id": "3be67b84",
   "metadata": {},
   "outputs": [],
   "source": [
    "# set up a list to hold SKUs ; this will be used to check subsequent duplicate barcode (of different SKU)\n",
    "SKU_lookup_list = []"
   ]
  },
  {
   "cell_type": "code",
   "execution_count": 8,
   "id": "83f7ca57",
   "metadata": {},
   "outputs": [],
   "source": [
    "# push the SKU of the intermediate merged catalogue to a temp list\n",
    "if len(itermediate_merged_catalogues) != 0:\n",
    "    temp_SKU = itermediate_merged_catalogues.iloc[0]['SKU']\n",
    "    SKU_lookup_list.append(temp_SKU)"
   ]
  },
  {
   "cell_type": "code",
   "execution_count": 9,
   "id": "b178ee54",
   "metadata": {},
   "outputs": [],
   "source": [
    "def getBarcodes(intermediate_merged_catalogue, sku):\n",
    "#     print(\"attempting to get barcode for \", sku)\n",
    "    result_A = bar_A[bar_A['SKU'] == sku]\n",
    "    if (len(result_A))>0:\n",
    "        return result_A\n",
    "    result_B = bar_B[bar_B['SKU'] == sku]\n",
    "    if (len(result_B))>0:\n",
    "        return result_B\n",
    "    else:\n",
    "        print(\"No barcode found for SKU!\")"
   ]
  },
  {
   "cell_type": "code",
   "execution_count": 10,
   "id": "9bf2db8a",
   "metadata": {},
   "outputs": [],
   "source": [
    "def barcode_exists(barcodes_of_next_sku_as_list, barcodes_of_temp_list):\n",
    "    # iterate over barcodes_of_next_sku and check if any barcode matches barcodes in barcodes_of_temp_list\n",
    "    for barcode in barcodes_of_next_sku_as_list:\n",
    "        if barcode in barcodes_of_temp_list:\n",
    "#             print(\"the barcode of sku \", next_sku, \" exists in the temp list ; to prevent dup ; skip\")\n",
    "            return True\n"
   ]
  },
  {
   "cell_type": "code",
   "execution_count": 11,
   "id": "e0397a6e",
   "metadata": {},
   "outputs": [
    {
     "ename": "NameError",
     "evalue": "name 'something' is not defined",
     "output_type": "error",
     "traceback": [
      "\u001b[0;31m---------------------------------------------------------------------------\u001b[0m",
      "\u001b[0;31mNameError\u001b[0m                                 Traceback (most recent call last)",
      "\u001b[0;32m/var/folders/0y/ypzdylgs6c1d1xxnd0nkbd900000gn/T/ipykernel_56216/3760328649.py\u001b[0m in \u001b[0;36m<module>\u001b[0;34m\u001b[0m\n\u001b[1;32m     13\u001b[0m     \u001b[0;31m# get the barcodes of each SKU in temp_list\u001b[0m\u001b[0;34m\u001b[0m\u001b[0;34m\u001b[0m\u001b[0;34m\u001b[0m\u001b[0m\n\u001b[1;32m     14\u001b[0m     \u001b[0;32mfor\u001b[0m \u001b[0msku\u001b[0m \u001b[0;32min\u001b[0m \u001b[0mSKU_lookup_list\u001b[0m\u001b[0;34m:\u001b[0m\u001b[0;34m\u001b[0m\u001b[0;34m\u001b[0m\u001b[0m\n\u001b[0;32m---> 15\u001b[0;31m         \u001b[0mbarcodes_of_sku\u001b[0m \u001b[0;34m=\u001b[0m \u001b[0mgetBarcodes\u001b[0m\u001b[0;34m(\u001b[0m\u001b[0msomething\u001b[0m\u001b[0;34m,\u001b[0m \u001b[0msku\u001b[0m\u001b[0;34m)\u001b[0m\u001b[0;34m\u001b[0m\u001b[0;34m\u001b[0m\u001b[0m\n\u001b[0m\u001b[1;32m     16\u001b[0m         \u001b[0mbarcodes_as_list\u001b[0m \u001b[0;34m=\u001b[0m \u001b[0mbarcodes_of_sku\u001b[0m\u001b[0;34m[\u001b[0m\u001b[0;34m'Barcode'\u001b[0m\u001b[0;34m]\u001b[0m\u001b[0;34m.\u001b[0m\u001b[0mtolist\u001b[0m\u001b[0;34m(\u001b[0m\u001b[0;34m)\u001b[0m\u001b[0;34m\u001b[0m\u001b[0;34m\u001b[0m\u001b[0m\n\u001b[1;32m     17\u001b[0m         \u001b[0;31m# extend - copies content of list (supplied in arg) to the source list\u001b[0m\u001b[0;34m\u001b[0m\u001b[0;34m\u001b[0m\u001b[0;34m\u001b[0m\u001b[0m\n",
      "\u001b[0;31mNameError\u001b[0m: name 'something' is not defined"
     ]
    }
   ],
   "source": [
    "# iterate over the intermediate merged catalogues\n",
    "for i in range(1, len(itermediate_merged_catalogues)):\n",
    "    next_sku = itermediate_merged_catalogues.iloc[i]['SKU']\n",
    "#     print(\"the next SKU is \", next_sku)\n",
    "\n",
    "    # check if the barcode of the next_sku matches the barcode of any of the SKUs in the temp list\n",
    "    barcodes_of_next_sku = getBarcodes(itermediate_merged_catalogues, next_sku)\n",
    "#     print(barcodes_of_next_sku)\n",
    "\n",
    "    # hold set of barcodes for all SKUs in temp_list\n",
    "    barcodes_of_temp_list = []\n",
    "    \n",
    "    # get the barcodes of each SKU in temp_list\n",
    "    for sku in SKU_lookup_list:\n",
    "        barcodes_of_sku = getBarcodes(itermediate_merged_catalogues, sku)\n",
    "        barcodes_as_list = barcodes_of_sku['Barcode'].tolist()\n",
    "        # extend - copies content of list (supplied in arg) to the source list\n",
    "        barcodes_of_temp_list.extend(barcodes_as_list)\n",
    "        \n",
    "#     print(SKU_lookup_list)\n",
    "\n",
    "#     print(barcodes_of_temp_list)\n",
    "\n",
    "    barcodes_of_next_sku_as_list = barcodes_of_next_sku['Barcode'].tolist()\n",
    "    \n",
    "    if not barcode_exists(barcodes_of_next_sku_as_list, barcodes_of_temp_list):\n",
    "#         print(\"appending \", next_sku, \" to the list\")\n",
    "        SKU_lookup_list.append(next_sku)\n",
    "#         print(SKU_lookup_list)\n",
    "        \n",
    "\n",
    "print(SKU_lookup_list)\n"
   ]
  },
  {
   "cell_type": "code",
   "execution_count": null,
   "id": "1390e493",
   "metadata": {},
   "outputs": [],
   "source": []
  }
 ],
 "metadata": {
  "kernelspec": {
   "display_name": "Python 3 (ipykernel)",
   "language": "python",
   "name": "python3"
  },
  "language_info": {
   "codemirror_mode": {
    "name": "ipython",
    "version": 3
   },
   "file_extension": ".py",
   "mimetype": "text/x-python",
   "name": "python",
   "nbconvert_exporter": "python",
   "pygments_lexer": "ipython3",
   "version": "3.9.6"
  }
 },
 "nbformat": 4,
 "nbformat_minor": 5
}
