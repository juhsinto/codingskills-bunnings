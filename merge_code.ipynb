{
 "cells": [
  {
   "cell_type": "code",
   "execution_count": 1,
   "id": "3a203a9d",
   "metadata": {},
   "outputs": [],
   "source": [
    "import pandas as pd "
   ]
  },
  {
   "cell_type": "code",
   "execution_count": 2,
   "id": "3b847873",
   "metadata": {},
   "outputs": [],
   "source": [
    "# read the catalogues\n",
    "cat_A = pd.read_csv(\"input/catalogA.csv\") \n",
    "cat_B = pd.read_csv(\"input/catalogB.csv\") "
   ]
  },
  {
   "cell_type": "code",
   "execution_count": 40,
   "id": "c55900aa",
   "metadata": {},
   "outputs": [
    {
     "name": "stdout",
     "output_type": "stream",
     "text": [
      "           SKU                       Description Source\n",
      "0  647-vyk-317       Walkers Special Old Whiskey      A\n",
      "1  280-oad-768                    Bread - Raisin      A\n",
      "2  165-rcy-650                 Tea - Decaf 1 Cup      A\n",
      "3  167-eol-949             Cheese - Grana Padano      A\n",
      "4  650-epd-782     Carbonated Water - Lemon Lime      A\n",
      "0  999-vyk-317  Walkers Special Old Whiskey test      B\n",
      "1  999-oad-768                    Bread - Raisin      B\n",
      "2  165-rcy-650                 Tea - Decaf 1 Cup      B\n",
      "3  999-eol-949             Cheese - Grana Padano      B\n",
      "4  999-epd-782     Carbonated Water - Lemon Lime      B\n"
     ]
    }
   ],
   "source": [
    "cat_A['Source'] = 'A'\n",
    "cat_B['Source'] = 'B'\n",
    "\n",
    "something = cat_A.append(cat_B)\n",
    "\n",
    "print(something)"
   ]
  },
  {
   "cell_type": "code",
   "execution_count": 42,
   "id": "ef82efcb",
   "metadata": {},
   "outputs": [
    {
     "name": "stdout",
     "output_type": "stream",
     "text": [
      "           SKU                       Description Source\n",
      "0  647-vyk-317       Walkers Special Old Whiskey      A\n",
      "1  280-oad-768                    Bread - Raisin      A\n",
      "2  165-rcy-650                 Tea - Decaf 1 Cup      A\n",
      "3  167-eol-949             Cheese - Grana Padano      A\n",
      "4  650-epd-782     Carbonated Water - Lemon Lime      A\n",
      "0  999-vyk-317  Walkers Special Old Whiskey test      B\n",
      "1  999-oad-768                    Bread - Raisin      B\n",
      "3  999-eol-949             Cheese - Grana Padano      B\n",
      "4  999-epd-782     Carbonated Water - Lemon Lime      B\n"
     ]
    }
   ],
   "source": [
    "something.drop_duplicates(subset =\"SKU\",\n",
    "                     keep = \"first\", inplace = True)\n",
    "print(something)"
   ]
  },
  {
   "cell_type": "code",
   "execution_count": 43,
   "id": "c2dcb197",
   "metadata": {},
   "outputs": [
    {
     "name": "stdout",
     "output_type": "stream",
     "text": [
      "           SKU                       Description Source\n",
      "0  647-vyk-317       Walkers Special Old Whiskey      A\n",
      "1  280-oad-768                    Bread - Raisin      A\n",
      "2  165-rcy-650                 Tea - Decaf 1 Cup      A\n",
      "3  167-eol-949             Cheese - Grana Padano      A\n",
      "4  650-epd-782     Carbonated Water - Lemon Lime      A\n",
      "5  999-vyk-317  Walkers Special Old Whiskey test      B\n",
      "6  999-oad-768                    Bread - Raisin      B\n",
      "7  999-eol-949             Cheese - Grana Padano      B\n",
      "8  999-epd-782     Carbonated Water - Lemon Lime      B\n"
     ]
    }
   ],
   "source": [
    "# reset the index because we have merged two dataframes \\\n",
    "# and the indexes are confusing\n",
    "something.reset_index(drop=True, inplace=True)\n",
    "print(something)"
   ]
  },
  {
   "cell_type": "code",
   "execution_count": 44,
   "id": "7b596f89",
   "metadata": {},
   "outputs": [],
   "source": [
    "# read the barcodes\n",
    "bar_A = pd.read_csv(\"input/barcodesA.csv\") \n",
    "bar_B = pd.read_csv(\"input/barcodesB.csv\") "
   ]
  },
  {
   "cell_type": "code",
   "execution_count": 45,
   "id": "3be67b84",
   "metadata": {},
   "outputs": [],
   "source": [
    "# set up a temporary list to hold SKUs ; this will be used to check subsequent duplicate barcode (of different SKU)\n",
    "temporary_list = []"
   ]
  },
  {
   "cell_type": "code",
   "execution_count": 46,
   "id": "83f7ca57",
   "metadata": {},
   "outputs": [],
   "source": [
    "# push the SKU of the intermediate merged catalogue to a temp list\n",
    "if len(something) != 0:\n",
    "    temp_SKU = something.iloc[0]['SKU']\n",
    "    temporary_list.append(temp_SKU)"
   ]
  },
  {
   "cell_type": "code",
   "execution_count": 47,
   "id": "b178ee54",
   "metadata": {},
   "outputs": [],
   "source": [
    "def getBarcodes(intermediate_merged_catalogue, sku):\n",
    "    print(\"attempting to get barcode for \", sku)\n",
    "    result_A = bar_A[bar_A['SKU'] == sku]\n",
    "    if (len(result_A))>0:\n",
    "        return result_A\n",
    "    result_B = bar_B[bar_B['SKU'] == sku]\n",
    "    if (len(result_B))>0:\n",
    "        return result_B\n",
    "    else:\n",
    "        print(\"No barcode found for SKU!\")"
   ]
  },
  {
   "cell_type": "code",
   "execution_count": 48,
   "id": "70aab04f",
   "metadata": {},
   "outputs": [],
   "source": [
    "def barcode_exists(barcodes_of_next_sku_as_list, barcodes_of_temp_list):\n",
    "    # iterate over barcodes_of_next_sku and check if any barcode matches barcodes in barcodes_of_temp_list\n",
    "    for barcode in barcodes_of_next_sku_as_list:\n",
    "        if barcode in barcodes_of_temp_list:\n",
    "            print(\"the barcode of sku \", next_sku, \" exists in the temp list ; to prevent dup ; skip\")\n",
    "            return True\n"
   ]
  },
  {
   "cell_type": "code",
   "execution_count": 49,
   "id": "e0397a6e",
   "metadata": {},
   "outputs": [
    {
     "name": "stdout",
     "output_type": "stream",
     "text": [
      "the next SKU is  280-oad-768\n",
      "attempting to get barcode for  280-oad-768\n",
      "attempting to get barcode for  647-vyk-317\n",
      "appending  280-oad-768  to the list\n",
      "['647-vyk-317', '280-oad-768']\n",
      "the next SKU is  165-rcy-650\n",
      "attempting to get barcode for  165-rcy-650\n",
      "attempting to get barcode for  647-vyk-317\n",
      "attempting to get barcode for  280-oad-768\n",
      "appending  165-rcy-650  to the list\n",
      "['647-vyk-317', '280-oad-768', '165-rcy-650']\n",
      "the next SKU is  167-eol-949\n",
      "attempting to get barcode for  167-eol-949\n",
      "attempting to get barcode for  647-vyk-317\n",
      "attempting to get barcode for  280-oad-768\n",
      "attempting to get barcode for  165-rcy-650\n",
      "appending  167-eol-949  to the list\n",
      "['647-vyk-317', '280-oad-768', '165-rcy-650', '167-eol-949']\n",
      "the next SKU is  650-epd-782\n",
      "attempting to get barcode for  650-epd-782\n",
      "attempting to get barcode for  647-vyk-317\n",
      "attempting to get barcode for  280-oad-768\n",
      "attempting to get barcode for  165-rcy-650\n",
      "attempting to get barcode for  167-eol-949\n",
      "appending  650-epd-782  to the list\n",
      "['647-vyk-317', '280-oad-768', '165-rcy-650', '167-eol-949', '650-epd-782']\n",
      "the next SKU is  999-vyk-317\n",
      "attempting to get barcode for  999-vyk-317\n",
      "attempting to get barcode for  647-vyk-317\n",
      "attempting to get barcode for  280-oad-768\n",
      "attempting to get barcode for  165-rcy-650\n",
      "attempting to get barcode for  167-eol-949\n",
      "attempting to get barcode for  650-epd-782\n",
      "the barcode of sku  999-vyk-317  exists in the temp list ; to prevent dup ; skip\n",
      "the next SKU is  999-oad-768\n",
      "attempting to get barcode for  999-oad-768\n",
      "attempting to get barcode for  647-vyk-317\n",
      "attempting to get barcode for  280-oad-768\n",
      "attempting to get barcode for  165-rcy-650\n",
      "attempting to get barcode for  167-eol-949\n",
      "attempting to get barcode for  650-epd-782\n",
      "the barcode of sku  999-oad-768  exists in the temp list ; to prevent dup ; skip\n",
      "the next SKU is  999-eol-949\n",
      "attempting to get barcode for  999-eol-949\n",
      "attempting to get barcode for  647-vyk-317\n",
      "attempting to get barcode for  280-oad-768\n",
      "attempting to get barcode for  165-rcy-650\n",
      "attempting to get barcode for  167-eol-949\n",
      "attempting to get barcode for  650-epd-782\n",
      "appending  999-eol-949  to the list\n",
      "['647-vyk-317', '280-oad-768', '165-rcy-650', '167-eol-949', '650-epd-782', '999-eol-949']\n",
      "the next SKU is  999-epd-782\n",
      "attempting to get barcode for  999-epd-782\n",
      "attempting to get barcode for  647-vyk-317\n",
      "attempting to get barcode for  280-oad-768\n",
      "attempting to get barcode for  165-rcy-650\n",
      "attempting to get barcode for  167-eol-949\n",
      "attempting to get barcode for  650-epd-782\n",
      "attempting to get barcode for  999-eol-949\n",
      "appending  999-epd-782  to the list\n",
      "['647-vyk-317', '280-oad-768', '165-rcy-650', '167-eol-949', '650-epd-782', '999-eol-949', '999-epd-782']\n"
     ]
    }
   ],
   "source": [
    "# iterate over the intermediate merged catalogues\n",
    "for i in range(1, len(something)):\n",
    "    next_sku = something.iloc[i]['SKU']\n",
    "    print(\"the next SKU is \", next_sku)\n",
    "\n",
    "    # check if the barcode of the next_sku matches the barcode of any of the SKUs in the temp list\n",
    "    barcodes_of_next_sku = getBarcodes(something, next_sku)\n",
    "#     print(barcodes_of_next_sku)\n",
    "\n",
    "    # hold set of barcodes for all SKUs in temp_list\n",
    "    barcodes_of_temp_list = []\n",
    "    \n",
    "    # get the barcodes of each SKU in temp_list\n",
    "    for sku in temporary_list:\n",
    "        barcodes_of_sku = getBarcodes(something, sku)\n",
    "        barcodes_as_list = barcodes_of_sku['Barcode'].tolist()\n",
    "        # extend - copies content of list (supplied in arg) to the source list\n",
    "        barcodes_of_temp_list.extend(barcodes_as_list)\n",
    "        \n",
    "#     print(temporary_list)\n",
    "\n",
    "#     print(barcodes_of_temp_list)\n",
    "\n",
    "    barcodes_of_next_sku_as_list = barcodes_of_next_sku['Barcode'].tolist()\n",
    "    \n",
    "    if not barcode_exists(barcodes_of_next_sku_as_list, barcodes_of_temp_list):\n",
    "        print(\"appending \", next_sku, \" to the list\")\n",
    "        temporary_list.append(next_sku)\n",
    "        print(temporary_list)\n",
    "\n"
   ]
  },
  {
   "cell_type": "code",
   "execution_count": null,
   "id": "138b7db1",
   "metadata": {},
   "outputs": [],
   "source": []
  }
 ],
 "metadata": {
  "kernelspec": {
   "display_name": "Python 3 (ipykernel)",
   "language": "python",
   "name": "python3"
  },
  "language_info": {
   "codemirror_mode": {
    "name": "ipython",
    "version": 3
   },
   "file_extension": ".py",
   "mimetype": "text/x-python",
   "name": "python",
   "nbconvert_exporter": "python",
   "pygments_lexer": "ipython3",
   "version": "3.9.6"
  }
 },
 "nbformat": 4,
 "nbformat_minor": 5
}
